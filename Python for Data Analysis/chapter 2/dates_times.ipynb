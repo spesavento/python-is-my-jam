{
 "cells": [
  {
   "cell_type": "markdown",
   "metadata": {},
   "source": [
    "### Dates and Times"
   ]
  },
  {
   "cell_type": "code",
   "execution_count": 10,
   "metadata": {},
   "outputs": [
    {
     "name": "stdout",
     "output_type": "stream",
     "text": [
      "29\n",
      "30\n",
      "Extracted date is 2011-10-29\n",
      "My date is 2011-10-29\n",
      "Extracted time is 20:30:21\n",
      "My time is 20:30:21\n",
      "the strftime method formats a datetime as a string:\n"
     ]
    },
    {
     "data": {
      "text/plain": [
       "'10/29/2011 20:30'"
      ]
     },
     "execution_count": 10,
     "metadata": {},
     "output_type": "execute_result"
    }
   ],
   "source": [
    "from datetime import datetime, date, time\n",
    "\n",
    "dt = datetime(2011, 10, 29, 20, 30, 21)\n",
    "\n",
    "print(dt.day)\n",
    "print(dt.minute)\n",
    "\n",
    "# given a datetime instance, extract the date and time\n",
    "print(\"Extracted date is\", dt.date())\n",
    "my_date = date(2011, 10, 29)\n",
    "print(\"My date is\", my_date)\n",
    "\n",
    "print(\"Extracted time is\", dt.time())\n",
    "print(\"My time is\", time(20, 30, 21))\n",
    "\n",
    "# the strftime method formats a datetime as a string:\n",
    "dt.strftime('%m/%d/%Y %H:%M')\n"
   ]
  },
  {
   "cell_type": "code",
   "execution_count": null,
   "metadata": {},
   "outputs": [],
   "source": [
    "#next"
   ]
  }
 ],
 "metadata": {
  "interpreter": {
   "hash": "b0fa6594d8f4cbf19f97940f81e996739fb7646882a419484c72d19e05852a7e"
  },
  "kernelspec": {
   "display_name": "Python 3.9.9 64-bit",
   "language": "python",
   "name": "python3"
  },
  "language_info": {
   "codemirror_mode": {
    "name": "ipython",
    "version": 3
   },
   "file_extension": ".py",
   "mimetype": "text/x-python",
   "name": "python",
   "nbconvert_exporter": "python",
   "pygments_lexer": "ipython3",
   "version": "3.9.7"
  },
  "orig_nbformat": 4
 },
 "nbformat": 4,
 "nbformat_minor": 2
}
